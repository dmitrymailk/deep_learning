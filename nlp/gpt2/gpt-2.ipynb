{
 "cells": [
  {
   "cell_type": "markdown",
   "metadata": {},
   "source": [
    "## gpt-2 laguage modeling"
   ]
  },
  {
   "cell_type": "code",
   "execution_count": 23,
   "metadata": {},
   "outputs": [],
   "source": [
    "from transformers import GPT2PreTrainedModel, AutoTokenizer, AutoModel\n",
    "\n",
    "tokenizer = AutoTokenizer.from_pretrained(\"gpt2\")\n",
    "model = AutoModel.from_pretrained(\"gpt2\")\n"
   ]
  },
  {
   "cell_type": "code",
   "execution_count": 24,
   "metadata": {},
   "outputs": [
    {
     "name": "stdout",
     "output_type": "stream",
     "text": [
      "tensor([[15496,    11,   616,  3290,   318, 13779]])\n"
     ]
    },
    {
     "data": {
      "text/plain": [
       "torch.Size([1, 6, 768])"
      ]
     },
     "execution_count": 24,
     "metadata": {},
     "output_type": "execute_result"
    }
   ],
   "source": [
    "input_ids = tokenizer.encode(\"Hello, my dog is cute\", return_tensors=\"pt\", add_special_tokens=True)\n",
    "print(input_ids)\n",
    "outputs = model(input_ids)\n",
    "outputs.last_hidden_state.shape"
   ]
  },
  {
   "cell_type": "code",
   "execution_count": 26,
   "metadata": {},
   "outputs": [
    {
     "data": {
      "text/plain": [
       "50257"
      ]
     },
     "execution_count": 26,
     "metadata": {},
     "output_type": "execute_result"
    }
   ],
   "source": [
    "tokenizer.vocab_size"
   ]
  },
  {
   "cell_type": "code",
   "execution_count": 28,
   "metadata": {},
   "outputs": [
    {
     "name": "stdout",
     "output_type": "stream",
     "text": [
      "tensor(16.3760, grad_fn=<NllLossBackward0>)\n"
     ]
    }
   ],
   "source": [
    "# https://github.com/huggingface/transformers/blob/main/src/transformers/models/gpt2/modeling_gpt2.py#L945\n",
    "import torch\n",
    "from torch import nn\n",
    "\n",
    "lm_head = nn.Linear(768, tokenizer.vocab_size, bias=False)\n",
    "hidden_states = outputs[0]\n",
    "\n",
    "lm_logits = lm_head(hidden_states)\n",
    "labels = input_ids\n",
    "\n",
    "loss = None\n",
    "if labels is not None:\n",
    "\t# Shift so that tokens < n predict n\n",
    "\t# сдвигаем токены на один влево, чтобы предсказывать следующий токен\n",
    "\t# пример\n",
    "\t# input_ids = [1, 2, 3, 4, 5]\n",
    "\t# outputs = model(input_ids)[0]\n",
    "\t# >>> outputs\n",
    "\t# [emb1, emb2, emb3, emb4, emb5] - эмбеддинги токенов\n",
    "\t# далее мы обрезаем токены\n",
    "\t# [emb1, emb2, emb3, emb4] -> [2, 3, 4, 5]\n",
    "\t# скажем emb1 это ембединг размерности словаря на основе которого мы бы хотели получить токен 2\n",
    "\t# Получается для языкового моделирования нам нужно преобразовать n-1, а последний токен нужен только лишь как id для вычисления лосса\n",
    "\t# поэтому наверное нужно изначально не тратить на него ресурсы?\n",
    "\tshift_logits = lm_logits[..., :-1, :].contiguous()\n",
    "\tshift_labels = labels[..., 1:].contiguous()\n",
    "\t# Flatten the tokens\n",
    "\tloss_fct = nn.CrossEntropyLoss()\n",
    "\tloss = loss_fct(shift_logits.view(-1, shift_logits.size(-1)), shift_labels.view(-1))\n",
    "\tprint(loss)\n"
   ]
  },
  {
   "cell_type": "code",
   "execution_count": 30,
   "metadata": {},
   "outputs": [
    {
     "data": {
      "text/plain": [
       "torch.Size([1, 6, 50257])"
      ]
     },
     "execution_count": 30,
     "metadata": {},
     "output_type": "execute_result"
    }
   ],
   "source": [
    "lm_logits.shape"
   ]
  },
  {
   "cell_type": "code",
   "execution_count": 53,
   "metadata": {},
   "outputs": [
    {
     "data": {
      "text/plain": [
       "tensor([[[-0.5206, -0.3519,  0.0869,  0.1716, -0.2535],\n",
       "         [ 0.2199, -0.6840, -0.3358, -0.1752,  0.3698],\n",
       "         [-0.5648, -0.7970,  0.1583,  0.7411, -0.3949],\n",
       "         [-1.0351, -0.8233, -0.5335, -1.1948, -0.6986],\n",
       "         [-0.7387,  1.3585,  0.1182, -1.4637, -0.0853],\n",
       "         [-0.7226, -1.4413,  0.0575,  1.0104, -0.6493],\n",
       "         [-0.2791, -0.3803, -0.4489, -1.0014,  0.0253]]],\n",
       "       grad_fn=<ViewBackward0>)"
      ]
     },
     "execution_count": 53,
     "metadata": {},
     "output_type": "execute_result"
    }
   ],
   "source": [
    "temp = torch.randn((1, 7, 3))\n",
    "temp_logits = nn.Linear(3, 5)(temp)\n",
    "temp_logits"
   ]
  },
  {
   "cell_type": "code",
   "execution_count": 54,
   "metadata": {},
   "outputs": [
    {
     "data": {
      "text/plain": [
       "tensor([[[-0.5206, -0.3519,  0.0869,  0.1716, -0.2535],\n",
       "         [ 0.2199, -0.6840, -0.3358, -0.1752,  0.3698],\n",
       "         [-0.5648, -0.7970,  0.1583,  0.7411, -0.3949],\n",
       "         [-1.0351, -0.8233, -0.5335, -1.1948, -0.6986],\n",
       "         [-0.7387,  1.3585,  0.1182, -1.4637, -0.0853],\n",
       "         [-0.7226, -1.4413,  0.0575,  1.0104, -0.6493]]],\n",
       "       grad_fn=<SliceBackward0>)"
      ]
     },
     "execution_count": 54,
     "metadata": {},
     "output_type": "execute_result"
    }
   ],
   "source": [
    "temp_logits[..., :-1, :].contiguous()"
   ]
  },
  {
   "cell_type": "code",
   "execution_count": 55,
   "metadata": {},
   "outputs": [
    {
     "data": {
      "text/plain": [
       "torch.Size([1, 6, 5])"
      ]
     },
     "execution_count": 55,
     "metadata": {},
     "output_type": "execute_result"
    }
   ],
   "source": [
    "temp_logits[..., :-1, :].contiguous().shape"
   ]
  },
  {
   "cell_type": "code",
   "execution_count": 43,
   "metadata": {},
   "outputs": [
    {
     "data": {
      "text/plain": [
       "tensor([[15496,    11,   616,  3290,   318, 13779]])"
      ]
     },
     "execution_count": 43,
     "metadata": {},
     "output_type": "execute_result"
    }
   ],
   "source": [
    "labels"
   ]
  },
  {
   "cell_type": "code",
   "execution_count": 44,
   "metadata": {},
   "outputs": [
    {
     "data": {
      "text/plain": [
       "tensor([[   11,   616,  3290,   318, 13779]])"
      ]
     },
     "execution_count": 44,
     "metadata": {},
     "output_type": "execute_result"
    }
   ],
   "source": [
    "labels[..., 1:]"
   ]
  }
 ],
 "metadata": {
  "kernelspec": {
   "display_name": "Python 3.10.4 ('d_env')",
   "language": "python",
   "name": "python3"
  },
  "language_info": {
   "codemirror_mode": {
    "name": "ipython",
    "version": 3
   },
   "file_extension": ".py",
   "mimetype": "text/x-python",
   "name": "python",
   "nbconvert_exporter": "python",
   "pygments_lexer": "ipython3",
   "version": "3.10.4"
  },
  "orig_nbformat": 4,
  "vscode": {
   "interpreter": {
    "hash": "c47eeeae5f0593d6ff7164e36f6d45daaa118b41372aa3e9757d1f066e1c76d7"
   }
  }
 },
 "nbformat": 4,
 "nbformat_minor": 2
}
